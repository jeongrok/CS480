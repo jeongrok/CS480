{
 "cells": [
  {
   "cell_type": "code",
   "execution_count": null,
   "metadata": {
    "collapsed": true
   },
   "outputs": [],
   "source": [
    "import selenium as selenium\n",
    "\n",
    "print(\"Project 1\")"
   ]
  },
  {
   "cell_type": "code",
   "execution_count": null,
   "metadata": {},
   "outputs": [],
   "source": [
    "#Trading strategy with moving average \n",
    "#TODO: Changing strategy to trade every 5 years (on a Wednesday?); shorten training data\n",
    "#Total number of trades with current code: 26\n",
    "#PSR: 0.055 (can improve)\n",
    "\n",
    "class TradingStrategy(QCAlgorithm):\n",
    "    #Keep track of highest price for the stock \n",
    "    highestSPYPrice = 0\n",
    "    def Initialize(self):\n",
    "        self.SetCash(100000)  # Set Strategy Cash\n",
    "        self.averages = {}\n",
    "        self.spy = self.AddEquity(\"SPY\",Resolution.Daily)\n",
    "        self.spy.SetDataNormalizationMode(DataNormalizationMode.Raw)\n",
    "\n",
    "\n",
    "    def OnData(self, data):\n",
    "         if self.Securities[\"SPY\"].Close > self.highestSPYPrice:\n",
    "             self.highestSPYPrice = self.Securities[\"SPY\"].Close\n",
    "        #Check the moving average of the stock to decide if trading or holding \n",
    "         self.SelectionFunction(self.spy)\n",
    "            \n",
    "    def SelectionFunction(self, stock):\n",
    "        #Earliest data available for the 3 stocks\n",
    "        #Change accordingly for different timeslots (start_date starting at 1998,1,1)\n",
    "        start_date = datetime(1998, 1, 1)\n",
    "        #Up to the start of 2022 (need to shorten)\n",
    "        end_date = datetime(2022, 1, 1)\n",
    "        symbol = stock.Symbol\n",
    "        #History for stock with daily resolution\n",
    "        history = self.History(symbol, start_date, end_date, Resolution.Daily)\n",
    "        #The tutorials did something with the code below but equity doesnt have AdjustedPrice\n",
    "        #self.averages[symbol].update(self.Time, stock.AdjustedPrice)\n",
    "        self.averages[symbol] = SelectionData(history)\n",
    "        self.Debug(str(history))\n",
    "        if not self.Time.weekday() == 1:\n",
    "            return\n",
    "        #Decide if trade or hold\n",
    "        if  self.averages[symbol].is_ready() and self.averages[symbol].fast > self.averages[symbol].slow:\n",
    "            #Set asset holdings to 100% of symbol\n",
    "            self.SetHoldings(symbol, 1)\n",
    "        else: \n",
    "            #Liquidate assets\n",
    "            self.Liquidate(symbol)\n",
    "            #self.Liquidate(tag = \"Liquidated\")\n",
    "\n",
    "#Moving average models\n",
    "class SelectionData():\n",
    "    def __init__(self, history):\n",
    "        #Not sure if it should be 100 or 200 (I had both numbers in my notes)\n",
    "        self.slow = ExponentialMovingAverage(200)\n",
    "        self.fast = ExponentialMovingAverage(50)\n",
    "        #4. Loop over the history data and update the indicators\n",
    "        for bar in history.itertuples():\n",
    "            self.fast.Update(bar.Index[1], bar.close)\n",
    "            self.slow.Update(bar.Index[1], bar.close)\n",
    "\n",
    "    def is_ready(self):\n",
    "        return self.slow.IsReady and self.fast.IsReady"
   ]
  },
  {
   "cell_type": "code",
   "execution_count": null,
   "metadata": {},
   "outputs": [],
   "source": [
    "# Trading strategy with Momentum Indicators\n",
    "\n",
    "from AlgorithmImports import *\n",
    "\n",
    "class MomentumBasedTacticalAllocation(QCAlgorithm):\n",
    "\n",
    "    def Initialize(self):\n",
    "        self.SetStartDate(2013, 1, 1)\n",
    "        self.SetEndDate(2018, 1, 1)\n",
    "        self.SetCash(100000)\n",
    "\n",
    "        self.apple = self.AddEquity(\"KO\", Resolution.Daily)\n",
    "        self.bnd = self.AddEquity(\"BND\", Resolution.Daily)\n",
    "        self.applemomentum = self.MOMP(\"KO\", 50, Resolution.Daily)\n",
    "        self.bondMomentum = self.MOMP(\"BND\", 50, Resolution.Daily)\n",
    "        self.SetBenchmark(\"KO\")\n",
    "        self.SetWarmUp(50)\n",
    "\n",
    "    def OnData(self, data):\n",
    "\n",
    "        # Don't place trades until our indicators are warmed up:\n",
    "        if self.IsWarmingUp:\n",
    "            return\n",
    "\n",
    "        #1. If SPY has more upward momentum than BND, then we liquidate our holdings in BND and allocate 100% of our equity to SPY\n",
    "        if self.applemomentum.Current.Value > self.bondMomentum.Current.Value:\n",
    "            self.Liquidate(\"BND\")\n",
    "            self.SetHoldings(\"KO\", 1)\n",
    "        else:\n",
    "            self.Liquidate(\"KO\")\n",
    "            self.SetHoldings(\"BND\", 1)"
   ]
  },
  {
   "cell_type": "code",
   "execution_count": 1,
   "metadata": {
    "ExecuteTime": {
     "start_time": "2023-04-09T23:29:23.076732Z",
     "end_time": "2023-04-09T23:29:24.235871Z"
    }
   },
   "outputs": [
    {
     "name": "stdout",
     "output_type": "stream",
     "text": [
      "Requirement already satisfied: selenium in /Library/Frameworks/Python.framework/Versions/3.10/lib/python3.10/site-packages (4.8.3)\r\n",
      "Requirement already satisfied: trio~=0.17 in /Library/Frameworks/Python.framework/Versions/3.10/lib/python3.10/site-packages (from selenium) (0.22.0)\r\n",
      "Requirement already satisfied: certifi>=2021.10.8 in /Library/Frameworks/Python.framework/Versions/3.10/lib/python3.10/site-packages (from selenium) (2022.12.7)\r\n",
      "Requirement already satisfied: trio-websocket~=0.9 in /Library/Frameworks/Python.framework/Versions/3.10/lib/python3.10/site-packages (from selenium) (0.10.2)\r\n",
      "Requirement already satisfied: urllib3[socks]~=1.26 in /Library/Frameworks/Python.framework/Versions/3.10/lib/python3.10/site-packages (from selenium) (1.26.12)\r\n",
      "Requirement already satisfied: idna in /Library/Frameworks/Python.framework/Versions/3.10/lib/python3.10/site-packages (from trio~=0.17->selenium) (3.4)\r\n",
      "Requirement already satisfied: sortedcontainers in /Library/Frameworks/Python.framework/Versions/3.10/lib/python3.10/site-packages (from trio~=0.17->selenium) (2.4.0)\r\n",
      "Requirement already satisfied: sniffio in /Library/Frameworks/Python.framework/Versions/3.10/lib/python3.10/site-packages (from trio~=0.17->selenium) (1.3.0)\r\n",
      "Requirement already satisfied: exceptiongroup>=1.0.0rc9 in /Library/Frameworks/Python.framework/Versions/3.10/lib/python3.10/site-packages (from trio~=0.17->selenium) (1.1.1)\r\n",
      "Requirement already satisfied: async-generator>=1.9 in /Library/Frameworks/Python.framework/Versions/3.10/lib/python3.10/site-packages (from trio~=0.17->selenium) (1.10)\r\n",
      "Requirement already satisfied: outcome in /Library/Frameworks/Python.framework/Versions/3.10/lib/python3.10/site-packages (from trio~=0.17->selenium) (1.2.0)\r\n",
      "Requirement already satisfied: attrs>=19.2.0 in /Library/Frameworks/Python.framework/Versions/3.10/lib/python3.10/site-packages (from trio~=0.17->selenium) (22.1.0)\r\n",
      "Requirement already satisfied: wsproto>=0.14 in /Library/Frameworks/Python.framework/Versions/3.10/lib/python3.10/site-packages (from trio-websocket~=0.9->selenium) (1.2.0)\r\n",
      "Requirement already satisfied: PySocks!=1.5.7,<2.0,>=1.5.6 in /Library/Frameworks/Python.framework/Versions/3.10/lib/python3.10/site-packages (from urllib3[socks]~=1.26->selenium) (1.7.1)\r\n",
      "Requirement already satisfied: h11<1,>=0.9.0 in /Library/Frameworks/Python.framework/Versions/3.10/lib/python3.10/site-packages (from wsproto>=0.14->trio-websocket~=0.9->selenium) (0.14.0)\r\n",
      "Note: you may need to restart the kernel to use updated packages.\n"
     ]
    }
   ],
   "source": [
    "pip install selenium"
   ]
  },
  {
   "cell_type": "code",
   "execution_count": 2,
   "metadata": {
    "ExecuteTime": {
     "start_time": "2023-04-10T01:15:57.936929Z",
     "end_time": "2023-04-10T01:15:57.975678Z"
    }
   },
   "outputs": [],
   "source": [
    "# Crawling using Selenium 4\n",
    "import selenium\n",
    "from selenium import webdriver\n",
    "from selenium.webdriver.common.by import By\n",
    "from selenium.webdriver.support.ui import WebDriverWait \n",
    "from selenium.webdriver.support import expected_conditions as EC"
   ]
  },
  {
   "cell_type": "code",
   "execution_count": 3,
   "metadata": {
    "ExecuteTime": {
     "start_time": "2023-03-29T00:43:10.624345Z",
     "end_time": "2023-03-29T00:43:31.748852Z"
    }
   },
   "outputs": [
    {
     "name": "stdout",
     "output_type": "stream",
     "text": [
      "Coupling Artificial Neurons in BERT and Biological Neurons in the Human Brain\n",
      "Indonesian Text-to-Image Synthesis with Sentence-BERT and FastGAN\n",
      "Interpretable Bangla Sarcasm Detection using BERT and Explainable AI\n",
      "Is BERT Blind? Exploring the Effect of Vision-and-Language Pretraining on Visual Language Understanding\n",
      "Trained on 100 million words and still in shape: BERT meets British National Corpus\n",
      "SmartBERT: A Promotion of Dynamic Early Exiting Mechanism for Accelerating BERT Inference\n",
      "MEDBERT.de: A Comprehensive German BERT Model for the Medical Domain\n",
      "Geolocation Predicting of Tweets Using BERT-Based Models\n",
      "German BERT Model for Legal Named Entity Recognition\n",
      "Can BERT Refrain from Forgetting on Sequential Tasks? A Probing Study\n",
      "Argument Mining using BERT and Self-Attention based Embeddings\n",
      "Using Auxiliary Tasks In Multimodal Fusion Of Wav2vec 2.0 And BERT For Multimodal Emotion Recognition\n",
      "Mask-guided BERT for Few Shot Text Classification\n",
      "Can ChatGPT Understand Too? A Comparative Study on ChatGPT and Fine-tuned BERT\n",
      "A Comprehensive Survey on Pretrained Foundation Models: A History from BERT to ChatGPT\n",
      "BERT is not The Count: Learning to Match Mathematical Statements with Proofs\n",
      "Stress Test for BERT and Deep Models: Predicting Words from Italian Poetry\n",
      "A Psycholinguistic Analysis of BERT's Representations of Compounds\n",
      "Applying BERT and ChatGPT for Sentiment Analysis of Lyme Disease in Scientific Literature\n",
      "BEST: BERT Pre-Training for Sign Language Recognition with Coupling Tokenization\n",
      "TopoBERT: Plug and Play Toponym Recognition Module Harnessing Fine-tuned BERT\n",
      "CSDR-BERT: a pre-trained scientific dataset match model for Chinese Scientific Dataset Retrieval\n",
      "BERT-based Authorship Attribution on the Romanian Dataset called ROST\n",
      "Can We Use Probing to Better Understand Fine-tuning and Knowledge Distillation of the BERT NLU?\n",
      "BERT-Embedding and Citation Network Analysis based Query Expansion Technique for Scholarly Search\n",
      "Injecting the BM25 Score as Text Improves BERT-Based Re-rankers\n",
      "Phoneme-Level BERT for Enhanced Prosody of Text-to-Speech with Grapheme Predictions\n",
      "Which Features are Learned by CodeBert: An Empirical Study of the BERT-based Source Code Representation Learning\n",
      "BERT-ERC: Fine-tuning BERT is Enough for Emotion Recognition in Conversation\n",
      "Improving Noise Robustness for Spoken Content Retrieval using Semi-supervised ASR and N-best Transcripts for BERT-based Ranking Models\n",
      "MaNLP@SMM4H22: BERT for Classification of Twitter Posts\n",
      "Designing BERT for Convolutional Networks: Sparse and Hierarchical Masked Modeling\n",
      "Online Fake Review Detection Using Supervised Machine Learning And BERT Model\n",
      "RLAS-BIABC: A Reinforcement Learning-Based Answer Selection Using the BERT Model Boosted by an Improved ABC Algorithm\n",
      "When Cyber Aggression Prediction Meets BERT on Social Media\n",
      "Sentiment Analysis of COVID-19 Public Activity Restriction (PPKM) Impact using BERT Method\n",
      "Distant Reading of the German Coalition Deal: Recognizing Policy Positions with BERT-based Text Classification\n",
      "DeepCuts: Single-Shot Interpretability based Pruning for BERT\n",
      "MicroBERT: Effective Training of Low-resource Monolingual BERTs through Parameter Reduction and Multitask Learning\n",
      "CAMeMBERT: Cascading Assistant-Mediated Multilingual BERT\n",
      "Cross-Linguistic Syntactic Difference in Multilingual BERT: How Good is It and How Does It Affect Transfer?\n",
      "A Twitter BERT Approach for Offensive Language Detection in Marathi\n",
      "Investigation of Japanese PnG BERT language model in text-to-speech synthesis for pitch accent language\n",
      "The Effects of In-domain Corpus Size on pre-training BERT\n",
      "AD-BERT: Using Pre-trained contextualized embeddings to Predict the Progression from Mild Cognitive Impairment to Alzheimer's Disease\n",
      "A Pre-Trained BERT Model for Android Applications\n",
      "A Study on Extracting Named Entities from Fine-tuned vs. Differentially Private Fine-tuned BERT Models\n",
      "Adapted Multimodal BERT with Layer-wise Fusion for Sentiment Analysis\n",
      "ExtremeBERT: A Toolkit for Accelerating Pretraining of Customized BERT\n",
      "Large Pre-Trained Models with Extra-Large Vocabularies: A Contrastive Analysis of Hebrew BERT Models and a New One to Outperform Them All\n",
      "50\n"
     ]
    }
   ],
   "source": [
    "# start a new Selenium session and navigate to the website\n",
    "driver = webdriver.Chrome()\n",
    "driver.get('https://arxiv.org/search/?query=BERT&searchtype=title&abstracts=show&order=-announced_date_first&size=50')\n",
    "\n",
    "# wait for the search results to load\n",
    "search_results = WebDriverWait(driver, 10).until(\n",
    "    EC.presence_of_all_elements_located((By.XPATH, \"//p[@class='title is-5 mathjax']\"))\n",
    ")\n",
    "\n",
    "# extract titles from each search result\n",
    "for result in search_results:\n",
    "    title = result.text.strip()\n",
    "    print(title)\n",
    "\n",
    "print(len(search_results))\n",
    "\n",
    "# close the browser window\n",
    "driver.quit()"
   ]
  },
  {
   "cell_type": "code",
   "execution_count": 3,
   "metadata": {
    "ExecuteTime": {
     "start_time": "2023-04-10T01:16:02.134839Z",
     "end_time": "2023-04-10T01:16:02.187347Z"
    }
   },
   "outputs": [],
   "source": [
    "from selenium.webdriver.common.keys import Keys\n",
    "import regex as re"
   ]
  },
  {
   "cell_type": "code",
   "execution_count": 6,
   "metadata": {
    "ExecuteTime": {
     "start_time": "2023-03-29T00:44:26.017221Z",
     "end_time": "2023-03-29T00:44:33.145014Z"
    }
   },
   "outputs": [
    {
     "name": "stdout",
     "output_type": "stream",
     "text": [
      "Courses offered in Fall 2023\n",
      "['CS 110', 'CS 170', 'CS 171', 'CS 211', 'CS 224', 'CS 253', 'CS 255', 'CS 312', 'CS 325', 'CS 326', 'CS 334', 'CS 350', 'CS 370', 'CS 377', 'CS 385', 'CS 485', 'CS 485', 'CS 526', 'CS 534', 'CS 551', 'CS 557', 'CS 571', 'CS 584', 'CS 584', 'CS 700', 'CS 799']\n"
     ]
    }
   ],
   "source": [
    "print(\"Courses offered in Fall 2023\")\n",
    "\n",
    "# start a new Selenium session and navigate to the website\n",
    "driver = webdriver.Chrome()\n",
    "driver.get('https://atlas.emory.edu/')\n",
    "\n",
    "# wait for the search bar to load\n",
    "search_bar = WebDriverWait(driver, 10).until(\n",
    "    EC.presence_of_element_located((By.XPATH, \"//input[@id='crit-keyword']\"))\n",
    ")\n",
    "\n",
    "# type 'CS' into the search bar and submit the search\n",
    "search_bar.send_keys('CS')\n",
    "search_bar.send_keys(Keys.RETURN)\n",
    "\n",
    "search_results = WebDriverWait(driver, 10).until(\n",
    "    EC.presence_of_all_elements_located((By.XPATH, \"/html/body/main/div[2]/div/div[3]\"))\n",
    ")\n",
    "\n",
    "# extract titles from each search result\n",
    "for result in search_results:\n",
    "    title = result.text.strip()\n",
    "\n",
    "course_codes = re.findall(r\"CS\\s\\d{3}\", title)\n",
    "print(course_codes)\n",
    "\n",
    "# close the browser window\n",
    "driver.quit()"
   ]
  },
  {
   "cell_type": "code",
   "execution_count": null,
   "metadata": {},
   "outputs": [],
   "source": []
  }
 ],
 "metadata": {
  "kernelspec": {
   "display_name": "Python 3",
   "language": "python",
   "name": "python3"
  },
  "language_info": {
   "codemirror_mode": {
    "name": "ipython",
    "version": 3
   },
   "file_extension": ".py",
   "mimetype": "text/x-python",
   "name": "python",
   "nbconvert_exporter": "python",
   "pygments_lexer": "ipython3",
   "version": "3.8.2"
  }
 },
 "nbformat": 4,
 "nbformat_minor": 1
}
