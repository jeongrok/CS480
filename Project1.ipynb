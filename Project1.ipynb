{
 "cells": [
  {
   "cell_type": "code",
   "execution_count": null,
   "metadata": {
    "collapsed": true
   },
   "outputs": [],
   "source": [
    "import selenium as selenium\n",
    "\n",
    "print(\"Project 1\")"
   ]
  },
  {
   "cell_type": "code",
   "execution_count": null,
   "metadata": {},
   "outputs": [],
   "source": [
    "#Trading strategy with moving average \n",
    "#TODO: Changing strategy to trade every 5 years (on a Wednesday?); shorten training data\n",
    "#Total number of trades with current code: 26\n",
    "#PSR: 0.055 (can improve)\n",
    "\n",
    "class TradingStrategy(QCAlgorithm):\n",
    "    #Keep track of highest price for the stock \n",
    "    highestSPYPrice = 0\n",
    "    def Initialize(self):\n",
    "        self.SetCash(100000)  # Set Strategy Cash\n",
    "        self.averages = {}\n",
    "        self.spy = self.AddEquity(\"SPY\",Resolution.Daily)\n",
    "        self.spy.SetDataNormalizationMode(DataNormalizationMode.Raw)\n",
    "\n",
    "\n",
    "    def OnData(self, data):\n",
    "         if self.Securities[\"SPY\"].Close > self.highestSPYPrice:\n",
    "             self.highestSPYPrice = self.Securities[\"SPY\"].Close\n",
    "        #Check the moving average of the stock to decide if trading or holding \n",
    "         self.SelectionFunction(self.spy)\n",
    "            \n",
    "    def SelectionFunction(self, stock):\n",
    "        #Earliest data available for the 3 stocks\n",
    "        #Change accordingly for different timeslots (start_date starting at 1998,1,1)\n",
    "        start_date = datetime(1998, 1, 1)\n",
    "        #Up to the start of 2022 (need to shorten)\n",
    "        end_date = datetime(2022, 1, 1)\n",
    "        symbol = stock.Symbol\n",
    "        #History for stock with daily resolution\n",
    "        history = self.History(symbol, start_date, end_date, Resolution.Daily)\n",
    "        #The tutorials did something with the code below but equity doesnt have AdjustedPrice\n",
    "        #self.averages[symbol].update(self.Time, stock.AdjustedPrice)\n",
    "        self.averages[symbol] = SelectionData(history)\n",
    "        self.Debug(str(history))\n",
    "        if not self.Time.weekday() == 1:\n",
    "            return\n",
    "        #Decide if trade or hold\n",
    "        if  self.averages[symbol].is_ready() and self.averages[symbol].fast > self.averages[symbol].slow:\n",
    "            #Set asset holdings to 100% of symbol\n",
    "            self.SetHoldings(symbol, 1)\n",
    "        else: \n",
    "            #Liquidate assets\n",
    "            self.Liquidate(symbol)\n",
    "            #self.Liquidate(tag = \"Liquidated\")\n",
    "\n",
    "#Moving average models\n",
    "class SelectionData():\n",
    "    def __init__(self, history):\n",
    "        #Not sure if it should be 100 or 200 (I had both numbers in my notes)\n",
    "        self.slow = ExponentialMovingAverage(200)\n",
    "        self.fast = ExponentialMovingAverage(50)\n",
    "        #4. Loop over the history data and update the indicators\n",
    "        for bar in history.itertuples():\n",
    "            self.fast.Update(bar.Index[1], bar.close)\n",
    "            self.slow.Update(bar.Index[1], bar.close)\n",
    "\n",
    "    def is_ready(self):\n",
    "        return self.slow.IsReady and self.fast.IsReady"
   ]
  },
  {
   "cell_type": "code",
   "execution_count": null,
   "metadata": {},
   "outputs": [],
   "source": [
    "# Trading strategy with Momentum Indicators\n",
    "\n",
    "from AlgorithmImports import *\n",
    "\n",
    "class MomentumBasedTacticalAllocation(QCAlgorithm):\n",
    "\n",
    "    def Initialize(self):\n",
    "        self.SetStartDate(2013, 1, 1)\n",
    "        self.SetEndDate(2018, 1, 1)\n",
    "        self.SetCash(100000)\n",
    "\n",
    "        self.apple = self.AddEquity(\"KO\", Resolution.Daily)\n",
    "        self.bnd = self.AddEquity(\"BND\", Resolution.Daily)\n",
    "        self.applemomentum = self.MOMP(\"KO\", 50, Resolution.Daily)\n",
    "        self.bondMomentum = self.MOMP(\"BND\", 50, Resolution.Daily)\n",
    "        self.SetBenchmark(\"KO\")\n",
    "        self.SetWarmUp(50)\n",
    "\n",
    "    def OnData(self, data):\n",
    "\n",
    "        # Don't place trades until our indicators are warmed up:\n",
    "        if self.IsWarmingUp:\n",
    "            return\n",
    "\n",
    "        #1. If SPY has more upward momentum than BND, then we liquidate our holdings in BND and allocate 100% of our equity to SPY\n",
    "        if self.applemomentum.Current.Value > self.bondMomentum.Current.Value:\n",
    "            self.Liquidate(\"BND\")\n",
    "            self.SetHoldings(\"KO\", 1)\n",
    "        else:\n",
    "            self.Liquidate(\"KO\")\n",
    "            self.SetHoldings(\"BND\", 1)"
   ]
  },
  {
   "cell_type": "code",
   "execution_count": 1,
   "metadata": {
    "ExecuteTime": {
     "start_time": "2023-04-23T09:33:08.714623Z",
     "end_time": "2023-04-23T09:33:09.830981Z"
    }
   },
   "outputs": [
    {
     "name": "stdout",
     "output_type": "stream",
     "text": [
      "Requirement already satisfied: selenium in /Library/Frameworks/Python.framework/Versions/3.10/lib/python3.10/site-packages (4.8.3)\r\n",
      "Requirement already satisfied: urllib3[socks]~=1.26 in /Library/Frameworks/Python.framework/Versions/3.10/lib/python3.10/site-packages (from selenium) (1.26.12)\r\n",
      "Requirement already satisfied: trio~=0.17 in /Library/Frameworks/Python.framework/Versions/3.10/lib/python3.10/site-packages (from selenium) (0.22.0)\r\n",
      "Requirement already satisfied: trio-websocket~=0.9 in /Library/Frameworks/Python.framework/Versions/3.10/lib/python3.10/site-packages (from selenium) (0.10.2)\r\n",
      "Requirement already satisfied: certifi>=2021.10.8 in /Library/Frameworks/Python.framework/Versions/3.10/lib/python3.10/site-packages (from selenium) (2022.12.7)\r\n",
      "Requirement already satisfied: attrs>=19.2.0 in /Library/Frameworks/Python.framework/Versions/3.10/lib/python3.10/site-packages (from trio~=0.17->selenium) (22.1.0)\r\n",
      "Requirement already satisfied: sortedcontainers in /Library/Frameworks/Python.framework/Versions/3.10/lib/python3.10/site-packages (from trio~=0.17->selenium) (2.4.0)\r\n",
      "Requirement already satisfied: async-generator>=1.9 in /Library/Frameworks/Python.framework/Versions/3.10/lib/python3.10/site-packages (from trio~=0.17->selenium) (1.10)\r\n",
      "Requirement already satisfied: idna in /Library/Frameworks/Python.framework/Versions/3.10/lib/python3.10/site-packages (from trio~=0.17->selenium) (3.4)\r\n",
      "Requirement already satisfied: outcome in /Library/Frameworks/Python.framework/Versions/3.10/lib/python3.10/site-packages (from trio~=0.17->selenium) (1.2.0)\r\n",
      "Requirement already satisfied: sniffio in /Library/Frameworks/Python.framework/Versions/3.10/lib/python3.10/site-packages (from trio~=0.17->selenium) (1.3.0)\r\n",
      "Requirement already satisfied: exceptiongroup>=1.0.0rc9 in /Library/Frameworks/Python.framework/Versions/3.10/lib/python3.10/site-packages (from trio~=0.17->selenium) (1.1.1)\r\n",
      "Requirement already satisfied: wsproto>=0.14 in /Library/Frameworks/Python.framework/Versions/3.10/lib/python3.10/site-packages (from trio-websocket~=0.9->selenium) (1.2.0)\r\n",
      "Requirement already satisfied: PySocks!=1.5.7,<2.0,>=1.5.6 in /Library/Frameworks/Python.framework/Versions/3.10/lib/python3.10/site-packages (from urllib3[socks]~=1.26->selenium) (1.7.1)\r\n",
      "Requirement already satisfied: h11<1,>=0.9.0 in /Library/Frameworks/Python.framework/Versions/3.10/lib/python3.10/site-packages (from wsproto>=0.14->trio-websocket~=0.9->selenium) (0.14.0)\r\n",
      "Note: you may need to restart the kernel to use updated packages.\n"
     ]
    }
   ],
   "source": [
    "pip install selenium"
   ]
  },
  {
   "cell_type": "code",
   "execution_count": 2,
   "metadata": {
    "ExecuteTime": {
     "start_time": "2023-04-23T09:33:22.416781Z",
     "end_time": "2023-04-23T09:33:22.465000Z"
    }
   },
   "outputs": [],
   "source": [
    "# Crawling using Selenium 4\n",
    "import selenium\n",
    "from selenium import webdriver\n",
    "from selenium.webdriver.common.by import By\n",
    "from selenium.webdriver.support.ui import WebDriverWait \n",
    "from selenium.webdriver.support import expected_conditions as EC"
   ]
  },
  {
   "cell_type": "code",
   "execution_count": 3,
   "metadata": {
    "ExecuteTime": {
     "start_time": "2023-04-23T09:33:25.256795Z",
     "end_time": "2023-04-23T09:33:30.192453Z"
    }
   },
   "outputs": [
    {
     "name": "stdout",
     "output_type": "stream",
     "text": [
      "Classification of US Supreme Court Cases using BERT-Based Techniques\n",
      "New Product Development (NPD) through Social Media-based Analysis by Comparing Word2Vec and BERT Word Embeddings\n",
      "Incorporating Structured Sentences with Time-enhanced BERT for Fully-inductive Temporal Relation Prediction\n",
      "UATTA-EB: Uncertainty-Aware Test-Time Augmented Ensemble of BERTs for Classifying Common Mental Illnesses on Social Media Posts\n",
      "Micron-BERT: BERT-based Facial Micro-Expression Recognition\n",
      "Multi-label classification of open-ended questions with BERT\n",
      "Pac-HuBERT: Self-Supervised Music Source Separation via Primitive Auditory Clustering and Hidden-Unit BERT\n",
      "San-BERT: Extractive Summarization for Sanskrit Documents using BERT and it's variants\n",
      "Can BERT eat RuCoLA? Topological Data Analysis to Explain\n",
      "Hate Speech Targets Detection in Parler using BERT\n",
      "Classifying COVID-19 Related Tweets for Fake News Detection and Sentiment Analysis with BERT-based Models\n",
      "Evaluation of GPT and BERT-based models on identifying protein-protein interactions in biomedical text\n",
      "Fine-Tuning BERT with Character-Level Noise for Zero-Shot Transfer to Dialects and Closely-Related Languages\n",
      "A BERT-based Unsupervised Grammatical Error Correction Framework\n",
      "Coupling Artificial Neurons in BERT and Biological Neurons in the Human Brain\n",
      "Indonesian Text-to-Image Synthesis with Sentence-BERT and FastGAN\n",
      "Interpretable Bangla Sarcasm Detection using BERT and Explainable AI\n",
      "Is BERT Blind? Exploring the Effect of Vision-and-Language Pretraining on Visual Language Understanding\n",
      "Trained on 100 million words and still in shape: BERT meets British National Corpus\n",
      "SmartBERT: A Promotion of Dynamic Early Exiting Mechanism for Accelerating BERT Inference\n",
      "MEDBERT.de: A Comprehensive German BERT Model for the Medical Domain\n",
      "Geolocation Predicting of Tweets Using BERT-Based Models\n",
      "German BERT Model for Legal Named Entity Recognition\n",
      "Can BERT Refrain from Forgetting on Sequential Tasks? A Probing Study\n",
      "Argument Mining using BERT and Self-Attention based Embeddings\n",
      "Using Auxiliary Tasks In Multimodal Fusion Of Wav2vec 2.0 And BERT For Multimodal Emotion Recognition\n",
      "Mask-guided BERT for Few Shot Text Classification\n",
      "Can ChatGPT Understand Too? A Comparative Study on ChatGPT and Fine-tuned BERT\n",
      "A Comprehensive Survey on Pretrained Foundation Models: A History from BERT to ChatGPT\n",
      "BERT is not The Count: Learning to Match Mathematical Statements with Proofs\n",
      "Stress Test for BERT and Deep Models: Predicting Words from Italian Poetry\n",
      "A Psycholinguistic Analysis of BERT's Representations of Compounds\n",
      "Applying BERT and ChatGPT for Sentiment Analysis of Lyme Disease in Scientific Literature\n",
      "BEST: BERT Pre-Training for Sign Language Recognition with Coupling Tokenization\n",
      "TopoBERT: Plug and Play Toponym Recognition Module Harnessing Fine-tuned BERT\n",
      "CSDR-BERT: a pre-trained scientific dataset match model for Chinese Scientific Dataset Retrieval\n",
      "BERT-based Authorship Attribution on the Romanian Dataset called ROST\n",
      "Can We Use Probing to Better Understand Fine-tuning and Knowledge Distillation of the BERT NLU?\n",
      "BERT-Embedding and Citation Network Analysis based Query Expansion Technique for Scholarly Search\n",
      "Injecting the BM25 Score as Text Improves BERT-Based Re-rankers\n",
      "Phoneme-Level BERT for Enhanced Prosody of Text-to-Speech with Grapheme Predictions\n",
      "Which Features are Learned by CodeBert: An Empirical Study of the BERT-based Source Code Representation Learning\n",
      "BERT-ERC: Fine-tuning BERT is Enough for Emotion Recognition in Conversation\n",
      "Improving Noise Robustness for Spoken Content Retrieval using Semi-supervised ASR and N-best Transcripts for BERT-based Ranking Models\n",
      "MaNLP@SMM4H22: BERT for Classification of Twitter Posts\n",
      "Designing BERT for Convolutional Networks: Sparse and Hierarchical Masked Modeling\n",
      "Online Fake Review Detection Using Supervised Machine Learning And BERT Model\n",
      "RLAS-BIABC: A Reinforcement Learning-Based Answer Selection Using the BERT Model Boosted by an Improved ABC Algorithm\n",
      "When Cyber Aggression Prediction Meets BERT on Social Media\n",
      "Sentiment Analysis of COVID-19 Public Activity Restriction (PPKM) Impact using BERT Method\n",
      "50\n"
     ]
    }
   ],
   "source": [
    "# start a new Selenium session and navigate to the website\n",
    "driver = webdriver.Chrome()\n",
    "driver.get('https://arxiv.org/search/?query=BERT&searchtype=title&abstracts=show&order=-announced_date_first&size=50')\n",
    "\n",
    "# wait for the search results to load\n",
    "search_results = WebDriverWait(driver, 10).until(\n",
    "    EC.presence_of_all_elements_located((By.XPATH, \"//p[@class='title is-5 mathjax']\"))\n",
    ")\n",
    "\n",
    "# extract titles from each search result\n",
    "for result in search_results:\n",
    "    title = result.text.strip()\n",
    "    print(title)\n",
    "\n",
    "print(len(search_results))\n",
    "\n",
    "# close the browser window\n",
    "driver.quit()"
   ]
  },
  {
   "cell_type": "code",
   "execution_count": 4,
   "metadata": {
    "ExecuteTime": {
     "start_time": "2023-04-23T09:33:34.531429Z",
     "end_time": "2023-04-23T09:33:34.949824Z"
    }
   },
   "outputs": [],
   "source": [
    "from selenium.webdriver.common.keys import Keys\n",
    "import regex as re\n",
    "import pandas as pd"
   ]
  },
  {
   "cell_type": "code",
   "execution_count": 5,
   "metadata": {
    "ExecuteTime": {
     "start_time": "2023-04-23T09:33:39.076705Z",
     "end_time": "2023-04-23T09:33:43.441495Z"
    }
   },
   "outputs": [
    {
     "name": "stdout",
     "output_type": "stream",
     "text": [
      "Courses offered in Fall 2023\n",
      "CS 110\n",
      "Computer Science Fundamentals\n",
      "Section Number:\n",
      "1\n",
      "Meets:\n",
      "TTh 10-11:15a\n",
      "Instructor:\n",
      "Staff\n",
      "CS 170\n",
      "Introduction To Computer Science I\n",
      "This section is full\n",
      "6 lecture\n",
      "CS 171\n",
      "Introduction to Computer Science II\n",
      "2 lecture\n",
      "CS 211\n",
      "Introduction to Artificial Intelligence\n",
      "Section Number:\n",
      "1\n",
      "Meets:\n",
      "TTh 5:30-6:45p\n",
      "Instructor:\n",
      "N. Thakur\n",
      "CS 224\n",
      "Foundations of Computer Science\n",
      "2 lecture\n",
      "CS 253\n",
      "Data Structures and Algorithms\n",
      "2 lecture\n",
      "CS 255\n",
      "Computer Architecture/Machine Level Programming\n",
      "Section Number:\n",
      "1\n",
      "Meets:\n",
      "TTh 10-11:15a\n",
      "Instructor:\n",
      "S. La Fleur\n",
      "CS 312\n",
      "Computing, AI, Ethics, and Soc\n",
      "Section Number:\n",
      "1\n",
      "Meets:\n",
      "MW 4-5:15p\n",
      "Instructor:\n",
      "K. Williams\n",
      "CS 325\n",
      "Artificial Intelligence\n",
      "Section Number:\n",
      "1\n",
      "Meets:\n",
      "MW 11:30a-12:45p\n",
      "Instructor:\n",
      "A. Pouriyeh\n",
      "CS 326\n",
      "Analysis of Algorithms\n",
      "2 lecture\n",
      "CS 334\n",
      "Machine Learning\n",
      "2 lecture\n",
      "CS 350\n",
      "Systems Programming\n",
      "2 lecture\n",
      "CS 370\n",
      "Computer Science Practicum\n",
      "2 lecture\n",
      "CS 371\n",
      "Research Practicum in AI\n",
      "Section Number:\n",
      "1\n",
      "Meets:\n",
      "MW 11:30a-12:45p\n",
      "Instructor:\n",
      "J. Choi\n",
      "CS 377\n",
      "Database Systems\n",
      "Section Number:\n",
      "1\n",
      "Meets:\n",
      "MW 4-5:15p\n",
      "Instructor:\n",
      "A. Zufle\n",
      "CS 441\n",
      "Information Visualization\n",
      "Section Number:\n",
      "1\n",
      "Meets:\n",
      "MW 11:30a-12:45p\n",
      "Instructor:\n",
      "E. Wall\n",
      "CS 485\n",
      "Topics in Computer Science: Human AI Interaction\n",
      "Section Number:\n",
      "1\n",
      "Meets:\n",
      "TTh 4-5:15p\n",
      "Instructor:\n",
      "C. Kulkarni\n",
      "CS 526\n",
      "Algorithms\n",
      "Section Number:\n",
      "1\n",
      "Meets:\n",
      "TTh 1-2:15p\n",
      "Instructor:\n",
      "M. Grigni\n",
      "CS 534\n",
      "Machine Learning\n",
      "Section Number:\n",
      "1\n",
      "Meets:\n",
      "TTh 11:30a-12:45p\n",
      "Instructor:\n",
      "J. Ho\n",
      "CS 551\n",
      "Systems Programming\n",
      "Section Number:\n",
      "1\n",
      "Meets:\n",
      "TTh 2:30-3:45p\n",
      "Instructor:\n",
      "K. Mandelberg\n",
      "CS 557\n",
      "Artificial Intelligence\n",
      "Section Number:\n",
      "1\n",
      "Meets:\n",
      "MW 10-11:15a\n",
      "Instructor:\n",
      "E. Agichtein\n",
      "CS 571\n",
      "Natural Language Processing\n",
      "Section Number:\n",
      "1\n",
      "Meets:\n",
      "MW 5:30-6:45p\n",
      "Instructor:\n",
      "F. Liu\n",
      "CS 584\n",
      "Topics In Computer Science: Human AI Interaction\n",
      "Section Number:\n",
      "1\n",
      "Meets:\n",
      "TTh 4-5:15p\n",
      "Instructor:\n",
      "C. Kulkarni\n",
      "CS 584\n",
      "Topics In Computer Science: Information Visualization\n",
      "Section Number:\n",
      "2\n",
      "Meets:\n",
      "MW 11:30a-12:45p\n",
      "Instructor:\n",
      "E. Wall\n",
      "CS 700R\n",
      "Graduate Seminar\n",
      "Section Number:\n",
      "1\n",
      "Meets:\n",
      "F 10-11:15a\n",
      "Instructor:\n",
      "V. Sunderam\n",
      "CS 799R\n",
      "Dissertation Research\n",
      "3 supervision\n",
      "CS_OX 170\n",
      "Introduction To Computer Science I w/Laboratory\n",
      "3 lecture, 3 laboratory\n",
      "CS_OX 171\n",
      "Introduction to Computer Science II\n",
      "Section Number:\n",
      "1\n",
      "Meets:\n",
      "TTh 8:30-9:45a\n",
      "Instructor:\n",
      "T. Li\n",
      "CS_OX 297RE\n",
      "Directed Study\n",
      "Section Number:\n",
      "1\n",
      "Meets:\n",
      "Does Not Meet\n",
      "Instructor:\n",
      "T. Li\n",
      "PSYC 778R\n",
      "Research Seminar B: CS + CCS Concentrations\n",
      "Section Number:\n",
      "1\n",
      "Meets:\n",
      "T 4-5:30p\n",
      "Instructor:\n",
      "M. Treadway\n",
      "Search Criteria\n",
      "Keyword: CS\n",
      "Term: Fall 2023\n",
      "['CS 110', 'CS 170', 'CS 171', 'CS 211', 'CS 224', 'CS 253', 'CS 255', 'CS 312', 'CS 325', 'CS 326', 'CS 334', 'CS 350', 'CS 370', 'CS 371', 'CS 377', 'CS 441', 'CS 485', 'CS 526', 'CS 534', 'CS 551', 'CS 557', 'CS 571', 'CS 584', 'CS 584', 'CS 700', 'CS 799']\n"
     ]
    }
   ],
   "source": [
    "print(\"Courses offered in Fall 2023\")\n",
    "\n",
    "# start a new Selenium session and navigate to the website\n",
    "driver = webdriver.Chrome()\n",
    "driver.get('https://atlas.emory.edu/')\n",
    "\n",
    "# wait for the search bar to load\n",
    "search_bar = WebDriverWait(driver, 10).until(\n",
    "    EC.presence_of_element_located((By.XPATH, \"//input[@id='crit-keyword']\"))\n",
    ")\n",
    "\n",
    "# type 'CS' into the search bar and submit the search\n",
    "search_bar.send_keys('CS')\n",
    "search_bar.send_keys(Keys.RETURN)\n",
    "\n",
    "search_results = WebDriverWait(driver, 10).until(\n",
    "    EC.presence_of_all_elements_located((By.XPATH, \"/html/body/main/div[2]/div/div[3]\"))\n",
    ")\n",
    "\n",
    "# extract titles from each search result\n",
    "for result in search_results:\n",
    "    title = result.text.strip()\n",
    "    print(title)\n",
    "\n",
    "course_codes = re.findall(r\"CS\\s\\d{3}\", title)\n",
    "print(course_codes)\n",
    "# close the browser window\n",
    "driver.quit()"
   ]
  },
  {
   "cell_type": "code",
   "execution_count": 36,
   "outputs": [
    {
     "name": "stdout",
     "output_type": "stream",
     "text": [
      "26\n"
     ]
    }
   ],
   "source": [
    "descriptions = ['A general introduction to computer science including an overview of hardware systems, programming essentials, algorithm design, data handling, and networking. Not intended for students needing a programming background for further work in computer science.',\n",
    "                'An introduction to Computer Science for students expecting to utilize serious computing in coursework, research, or employment. Emphasis is on computing concepts, programming principles, algorithm development and basic data structures, using the Java programming language and Unix operating system.',\n",
    "                'A second course in Computer Science, focusing on intermediate programming. Emphasis is on proficiency in the use and implementation of data structures, algorithms for classical programming paradigms, and object oriented design and programming with Java.',\n",
    "                'Fundamentals, modern concepts, and practices in Artificial Intelligence including computational decision making, knowledge-based agents, propositional logic, search, heuristics, and machine learning. Assessment includes exams and hands-on projects based on real-world problems.',\n",
    "                'An introductory course in the theory of Computer Science, focusing on analysis of discrete structures with applications. Emphasis is on developing familiarity with notation, computational acuity and creative problem solving skills.',\n",
    "                'A third course in Computer Science, focusing on advanced programming. Emphasis is on mastery in the use and implementation of data structures and algorithms for classical programming paradigms, using the Java programming language and object oriented design.',\n",
    "                'Introductory systems course in Computer Science, with a focus on high level computer architecture and assembler programming. Emphasis is on comprehension of von Neumann computer architecture, information encoding and data representation, and assembler equivalents of high level programming constructs.',\n",
    "                'Understanding ethical and societal concerns introduced by computing and AI into human life, including privacy, online influence and disinformation, information ownership and responsibility, fairness and bias in computer and AI technologies such as facial recognition and robotic systems.',\n",
    "                'Foundations and problems of machine intelligence, application areas, representation of knowledge, constraint processing, AI programming languages, expert systems, design of an intelligent system.', 'This course explores the formal underpinnings of computational complexity, and studies how to mathematically characterize the efficiency and running times of different computer algorithms.',\n",
    "                'This course will cover the underpinnings, algorithms, and practices that enable a computer to learn. Emphasis will be on fundamental theory and algorithms in statistical machine learning, and approaches to applying machine learning in a variety of domains.',\n",
    "                'System programming topics are illustrated by the POSIX API to the Linux operating system. Topics include: file i/o, the TTY driver, window systems, processes, shared memory, message passing, semaphores, signals, and interrupt handlers.',\n",
    "                'This course introduces basic concepts and techniques of software engineering, and applies these in the context of a semester-long group programming project.',\n",
    "                'This course guides students in developing the ability to conduct high-quality research in Artificial Intelligence (AI). Throughout the course, students will work on team projects, write research papers (both individually and in groups), peer-review papers from others, and give public presentations.',\n",
    "                'Introduction to storage hierarchies, database models, consistency, reliability, and security issues. Query languages and their implementations, efficiency considerations, and compression and encoding techniques.',\n",
    "                'In this course, students 1) will become acquainted with fundamental theories in perceptual psychology that drive visualization design, 2) will be introduced to basic principles of HCI which inform evaluation of interactive visualizations, and 3) will use D3 to develop interactive visualizations.',\n",
    "                'The goal of this course is to introduce students to ways of thinking about how Artificial Intelligence will and has impacted humans, and how we can design interactive intelligent systems that are usable and beneficial to humans, and that respect human values. As students in this course, you will build a number of different interactive technologies powered by AI. Among other topics, we will learn how Large-Language Models (such as those behind ChatGPT), and other generative models (such as Stable Diffusion, which creates new images based on their description), can serve as a foundation for new interactive AI applications. Through building these applications, you will gain practical experience with how different decisions impact their usability for humans and understand the various ways in which human involvement is critical in systems driven by machine learning. Above all, you will learn to think both optimistically and critically of what AI systems can do and how they can and should be integrated into society.',\n",
    "                'This course is a graduate level introduction to the design and analysis of algorithms. Although we will review some undergraduate level material, we will instead emphasize reading and experimentation at a level appropriate for the initiation of research. This course will have both theoretical and practical content. As course highlights, students will be expected to implement and analyze the performance of a fundamental data structure, starting with a close reading of the original research paper.',\n",
    "                'This course covers fundamental machine learning theory and techniques. The topics include basic theory, classification methods, model generalization, clustering, and dimension reduction. The material will be conveyed by a series of lectures, homeworks, and projects.',\n",
    "                'Systems programming topics will be illustrated by use of the Unix operating system. Topics include: file i/o, the tty driver, window systems, processes, shared memory, message passing, semaphores, signals, interrupt handlers, network programming and remote procedure calls. Programming examples and assignments will illustrate the system interface on actual computer hardware. All assignments will be in written in C. The department computing lab will be used in the course to allow students to get hands-on experience with operating system and hardware topics that cannot effectively be pursued on a central timesharing computer.',\n",
    "                'This course covers core areas of Artificial Intelligence including perception, optimization, reasoning, learning, planning, decision--making, knowledge representation, vision and robotics.',\n",
    "                'This course introduces the fundamental concepts and ideas in natural language processing (NLP). It develops an understanding of algorithms for processing linguistic information and the underlying computational properties of text. The focus is on modern quantitative techniques in NLP. Advanced topics will include introduction to information retrieval, text mining and knowledge discovery from text data, as well as applications of NLP to bioinformatics and medical informatics.',\n",
    "                'The goal of this course is to introduce students to ways of thinking about how Artificial Intelligence will and has impacted humans, and how we can design interactive intelligent systems that are usable and beneficial to humans, and that respect human values. As students in this course, you will build a number of different interactive technologies powered by AI. Among other topics, we will learn how Large-Language Models (such as those behind ChatGPT), and other generative models (such as Stable Diffusion, which creates new images based on their description), can serve as a foundation for new interactive AI applications.',\n",
    "                'This course focuses on fundamentals of information visualization and visual analytics. The goal is to study techniques for creating effective visual representations of data based on principles from psychology, cognitive science, and design. In addition to designing and developing interactive information visualizations, students will also learn about the state of the art in information visualization research.',\n",
    "                'This is a required course for all students in the PhD program. It comprises seminars given by faculty, invited guests, and students.',\n",
    "                'Dissertation Research']\n",
    "print(len(descriptions))"
   ],
   "metadata": {
    "collapsed": false,
    "ExecuteTime": {
     "start_time": "2023-04-23T10:03:59.354450Z",
     "end_time": "2023-04-23T10:03:59.359950Z"
    }
   }
  },
  {
   "cell_type": "code",
   "execution_count": 37,
   "metadata": {
    "ExecuteTime": {
     "start_time": "2023-04-23T10:04:00.617642Z",
     "end_time": "2023-04-23T10:04:00.623097Z"
    }
   },
   "outputs": [
    {
     "name": "stdout",
     "output_type": "stream",
     "text": [
      "    course                                        description\n",
      "0   CS 110  A general introduction to computer science inc...\n",
      "1   CS 170  An introduction to Computer Science for studen...\n",
      "2   CS 171  A second course in Computer Science, focusing ...\n",
      "3   CS 211  Fundamentals, modern concepts, and practices i...\n",
      "4   CS 224  An introductory course in the theory of Comput...\n",
      "5   CS 253  A third course in Computer Science, focusing o...\n",
      "6   CS 255  Introductory systems course in Computer Scienc...\n",
      "7   CS 312  Understanding ethical and societal concerns in...\n",
      "8   CS 325  Foundations and problems of machine intelligen...\n",
      "9   CS 326  This course explores the formal underpinnings ...\n",
      "10  CS 334  This course will cover the underpinnings, algo...\n",
      "11  CS 350  System programming topics are illustrated by t...\n",
      "12  CS 370  This course introduces basic concepts and tech...\n",
      "13  CS 371  This course guides students in developing the ...\n",
      "14  CS 377  Introduction to storage hierarchies, database ...\n",
      "15  CS 441  In this course, students 1) will become acquai...\n",
      "16  CS 485  The goal of this course is to introduce studen...\n",
      "17  CS 526  This course is a graduate level introduction t...\n",
      "18  CS 534  This course covers fundamental machine learnin...\n",
      "19  CS 551  Systems programming topics will be illustrated...\n",
      "20  CS 557  This course covers core areas of Artificial In...\n",
      "21  CS 571  This course introduces the fundamental concept...\n",
      "22  CS 584  The goal of this course is to introduce studen...\n",
      "23  CS584a  This course focuses on fundamentals of informa...\n",
      "24  CS 700  This is a required course for all students in ...\n",
      "25  CS 799                              Dissertation Research\n"
     ]
    }
   ],
   "source": [
    "database = {}\n",
    "\n",
    "database['course'] = course_codes\n",
    "database['course'][-3] = 'CS584a'\n",
    "database['description'] = descriptions\n",
    "\n",
    "new = pd.DataFrame.from_dict(database)\n",
    "print(new)"
   ]
  },
  {
   "cell_type": "code",
   "execution_count": 68,
   "outputs": [
    {
     "name": "stdout",
     "output_type": "stream",
     "text": [
      "['i', 'me', 'my', 'myself', 'we', 'our', 'ours', 'ourselves', 'you', \"you're\", \"you've\", \"you'll\", \"you'd\", 'your', 'yours', 'yourself', 'yourselves', 'he', 'him', 'his', 'himself', 'she', \"she's\", 'her', 'hers', 'herself', 'it', \"it's\", 'its', 'itself', 'they', 'them', 'their', 'theirs', 'themselves', 'what', 'which', 'who', 'whom', 'this', 'that', \"that'll\", 'these', 'those', 'am', 'is', 'are', 'was', 'were', 'be', 'been', 'being', 'have', 'has', 'had', 'having', 'do', 'does', 'did', 'doing', 'a', 'an', 'the', 'and', 'but', 'if', 'or', 'because', 'as', 'until', 'while', 'of', 'at', 'by', 'for', 'with', 'about', 'against', 'between', 'into', 'through', 'during', 'before', 'after', 'above', 'below', 'to', 'from', 'up', 'down', 'in', 'out', 'on', 'off', 'over', 'under', 'again', 'further', 'then', 'once', 'here', 'there', 'when', 'where', 'why', 'how', 'all', 'any', 'both', 'each', 'few', 'more', 'most', 'other', 'some', 'such', 'no', 'nor', 'not', 'only', 'own', 'same', 'so', 'than', 'too', 'very', 's', 't', 'can', 'will', 'just', 'don', \"don't\", 'should', \"should've\", 'now', 'd', 'll', 'm', 'o', 're', 've', 'y', 'ain', 'aren', \"aren't\", 'couldn', \"couldn't\", 'didn', \"didn't\", 'doesn', \"doesn't\", 'hadn', \"hadn't\", 'hasn', \"hasn't\", 'haven', \"haven't\", 'isn', \"isn't\", 'ma', 'mightn', \"mightn't\", 'mustn', \"mustn't\", 'needn', \"needn't\", 'shan', \"shan't\", 'shouldn', \"shouldn't\", 'wasn', \"wasn't\", 'weren', \"weren't\", 'won', \"won't\", 'wouldn', \"wouldn't\"]\n",
      "    course                                        description  \\\n",
      "8   CS 325  Foundations and problems of machine intelligen...   \n",
      "10  CS 334  This course will cover the underpinnings, algo...   \n",
      "13  CS 371  This course guides students in developing the ...   \n",
      "16  CS 485  The goal of this course is to introduce studen...   \n",
      "20  CS 557  This course covers core areas of Artificial In...   \n",
      "21  CS 571  This course introduces the fundamental concept...   \n",
      "\n",
      "                                    clean_description  \n",
      "8   Foundations problems machine intelligence, app...  \n",
      "10  cover underpinnings, algorithms, practices ena...  \n",
      "13  guides students developing ability conduct hig...  \n",
      "16  goal introduce students ways thinking Artifici...  \n",
      "20  covers core areas Artificial Intelligence incl...  \n",
      "21  introduces fundamental concepts ideas natural ...  \n"
     ]
    }
   ],
   "source": [
    "from nltk.corpus import stopwords\n",
    "from nltk.tokenize import word_tokenize\n",
    "\n",
    "stop_words = stopwords.words('english')\n",
    "print(stop_words)\n",
    "stop_words.append('course')\n",
    "new['clean_description'] = new['description'].apply(lambda x: ' '.join([word for word in x.split() if word.lower() not in (stop_words)]))\n",
    "temp = new.loc[[8,10,13,16,20,21]]\n",
    "print(temp)\n"
   ],
   "metadata": {
    "collapsed": false,
    "ExecuteTime": {
     "start_time": "2023-04-23T10:53:54.815573Z",
     "end_time": "2023-04-23T10:53:54.823038Z"
    }
   }
  },
  {
   "cell_type": "code",
   "execution_count": 73,
   "outputs": [],
   "source": [
    "from sklearn.feature_extraction.text import CountVectorizer\n",
    "\n",
    "# the vectorizer object will be used to transform text to vector form\n",
    "vectorizer = CountVectorizer(max_df= 0.9, min_df=3, token_pattern='\\w+|\\$[\\d\\.]+|\\S+')\n",
    "\n",
    "# apply transformation\n",
    "tf = vectorizer.fit_transform(new['clean_description']).toarray()\n",
    "tf_feature_names = vectorizer.get_feature_names_out()"
   ],
   "metadata": {
    "collapsed": false,
    "ExecuteTime": {
     "start_time": "2023-04-23T10:54:28.497979Z",
     "end_time": "2023-04-23T10:54:28.504581Z"
    }
   }
  },
  {
   "cell_type": "code",
   "execution_count": 74,
   "outputs": [
    {
     "data": {
      "text/plain": "LatentDirichletAllocation(n_components=5, random_state=0)",
      "text/html": "<style>#sk-container-id-8 {color: black;background-color: white;}#sk-container-id-8 pre{padding: 0;}#sk-container-id-8 div.sk-toggleable {background-color: white;}#sk-container-id-8 label.sk-toggleable__label {cursor: pointer;display: block;width: 100%;margin-bottom: 0;padding: 0.3em;box-sizing: border-box;text-align: center;}#sk-container-id-8 label.sk-toggleable__label-arrow:before {content: \"▸\";float: left;margin-right: 0.25em;color: #696969;}#sk-container-id-8 label.sk-toggleable__label-arrow:hover:before {color: black;}#sk-container-id-8 div.sk-estimator:hover label.sk-toggleable__label-arrow:before {color: black;}#sk-container-id-8 div.sk-toggleable__content {max-height: 0;max-width: 0;overflow: hidden;text-align: left;background-color: #f0f8ff;}#sk-container-id-8 div.sk-toggleable__content pre {margin: 0.2em;color: black;border-radius: 0.25em;background-color: #f0f8ff;}#sk-container-id-8 input.sk-toggleable__control:checked~div.sk-toggleable__content {max-height: 200px;max-width: 100%;overflow: auto;}#sk-container-id-8 input.sk-toggleable__control:checked~label.sk-toggleable__label-arrow:before {content: \"▾\";}#sk-container-id-8 div.sk-estimator input.sk-toggleable__control:checked~label.sk-toggleable__label {background-color: #d4ebff;}#sk-container-id-8 div.sk-label input.sk-toggleable__control:checked~label.sk-toggleable__label {background-color: #d4ebff;}#sk-container-id-8 input.sk-hidden--visually {border: 0;clip: rect(1px 1px 1px 1px);clip: rect(1px, 1px, 1px, 1px);height: 1px;margin: -1px;overflow: hidden;padding: 0;position: absolute;width: 1px;}#sk-container-id-8 div.sk-estimator {font-family: monospace;background-color: #f0f8ff;border: 1px dotted black;border-radius: 0.25em;box-sizing: border-box;margin-bottom: 0.5em;}#sk-container-id-8 div.sk-estimator:hover {background-color: #d4ebff;}#sk-container-id-8 div.sk-parallel-item::after {content: \"\";width: 100%;border-bottom: 1px solid gray;flex-grow: 1;}#sk-container-id-8 div.sk-label:hover label.sk-toggleable__label {background-color: #d4ebff;}#sk-container-id-8 div.sk-serial::before {content: \"\";position: absolute;border-left: 1px solid gray;box-sizing: border-box;top: 0;bottom: 0;left: 50%;z-index: 0;}#sk-container-id-8 div.sk-serial {display: flex;flex-direction: column;align-items: center;background-color: white;padding-right: 0.2em;padding-left: 0.2em;position: relative;}#sk-container-id-8 div.sk-item {position: relative;z-index: 1;}#sk-container-id-8 div.sk-parallel {display: flex;align-items: stretch;justify-content: center;background-color: white;position: relative;}#sk-container-id-8 div.sk-item::before, #sk-container-id-8 div.sk-parallel-item::before {content: \"\";position: absolute;border-left: 1px solid gray;box-sizing: border-box;top: 0;bottom: 0;left: 50%;z-index: -1;}#sk-container-id-8 div.sk-parallel-item {display: flex;flex-direction: column;z-index: 1;position: relative;background-color: white;}#sk-container-id-8 div.sk-parallel-item:first-child::after {align-self: flex-end;width: 50%;}#sk-container-id-8 div.sk-parallel-item:last-child::after {align-self: flex-start;width: 50%;}#sk-container-id-8 div.sk-parallel-item:only-child::after {width: 0;}#sk-container-id-8 div.sk-dashed-wrapped {border: 1px dashed gray;margin: 0 0.4em 0.5em 0.4em;box-sizing: border-box;padding-bottom: 0.4em;background-color: white;}#sk-container-id-8 div.sk-label label {font-family: monospace;font-weight: bold;display: inline-block;line-height: 1.2em;}#sk-container-id-8 div.sk-label-container {text-align: center;}#sk-container-id-8 div.sk-container {/* jupyter's `normalize.less` sets `[hidden] { display: none; }` but bootstrap.min.css set `[hidden] { display: none !important; }` so we also need the `!important` here to be able to override the default hidden behavior on the sphinx rendered scikit-learn.org. See: https://github.com/scikit-learn/scikit-learn/issues/21755 */display: inline-block !important;position: relative;}#sk-container-id-8 div.sk-text-repr-fallback {display: none;}</style><div id=\"sk-container-id-8\" class=\"sk-top-container\"><div class=\"sk-text-repr-fallback\"><pre>LatentDirichletAllocation(n_components=5, random_state=0)</pre><b>In a Jupyter environment, please rerun this cell to show the HTML representation or trust the notebook. <br />On GitHub, the HTML representation is unable to render, please try loading this page with nbviewer.org.</b></div><div class=\"sk-container\" hidden><div class=\"sk-item\"><div class=\"sk-estimator sk-toggleable\"><input class=\"sk-toggleable__control sk-hidden--visually\" id=\"sk-estimator-id-8\" type=\"checkbox\" checked><label for=\"sk-estimator-id-8\" class=\"sk-toggleable__label sk-toggleable__label-arrow\">LatentDirichletAllocation</label><div class=\"sk-toggleable__content\"><pre>LatentDirichletAllocation(n_components=5, random_state=0)</pre></div></div></div></div></div>"
     },
     "execution_count": 74,
     "metadata": {},
     "output_type": "execute_result"
    }
   ],
   "source": [
    "from sklearn.decomposition import LatentDirichletAllocation\n",
    "model = LatentDirichletAllocation(n_components=5, random_state=0)\n",
    "model.fit(tf)"
   ],
   "metadata": {
    "collapsed": false,
    "ExecuteTime": {
     "start_time": "2023-04-23T10:54:29.369065Z",
     "end_time": "2023-04-23T10:54:29.399950Z"
    }
   }
  },
  {
   "cell_type": "code",
   "execution_count": 75,
   "outputs": [],
   "source": [
    "def display_topics(model, feature_names, no_top_words):\n",
    "    topic_dict = {}\n",
    "    for topic_idx, topic in enumerate(model.components_):\n",
    "        topic_dict[\"Topic %d words\" % (topic_idx)]= ['{}'.format(feature_names[i])\n",
    "                        for i in topic.argsort()[:-no_top_words - 1:-1]]\n",
    "        topic_dict[\"Topic %d weights\" % (topic_idx)]= ['{:.1f}'.format(topic[i])\n",
    "                        for i in topic.argsort()[:-no_top_words - 1:-1]]\n",
    "    return pd.DataFrame(topic_dict)"
   ],
   "metadata": {
    "collapsed": false,
    "ExecuteTime": {
     "start_time": "2023-04-23T10:54:30.036391Z",
     "end_time": "2023-04-23T10:54:30.044219Z"
    }
   }
  },
  {
   "cell_type": "code",
   "execution_count": 76,
   "outputs": [
    {
     "data": {
      "text/plain": "  Topic 0 words Topic 0 weights Topic 1 words Topic 1 weights Topic 2 words  \\\n0        theory             4.2      research             5.2      computer   \n1       machine             4.0      students             5.2   programming   \n2      computer             3.0   fundamental             1.2       science   \n3    algorithms             2.7    developing             1.2     including   \n4      learning             2.5    algorithms             1.2          data   \n\n  Topic 2 weights Topic 3 words Topic 3 weights Topic 4 words Topic 4 weights  \n0             2.2   programming             9.9        topics             6.2  \n1             2.2   interactive             9.2        system             6.2  \n2             2.2            ai             7.2   programming             5.5  \n3             1.2      students             7.1     operating             4.2  \n4             1.2      computer             6.9      concepts             4.2  ",
      "text/html": "<div>\n<style scoped>\n    .dataframe tbody tr th:only-of-type {\n        vertical-align: middle;\n    }\n\n    .dataframe tbody tr th {\n        vertical-align: top;\n    }\n\n    .dataframe thead th {\n        text-align: right;\n    }\n</style>\n<table border=\"1\" class=\"dataframe\">\n  <thead>\n    <tr style=\"text-align: right;\">\n      <th></th>\n      <th>Topic 0 words</th>\n      <th>Topic 0 weights</th>\n      <th>Topic 1 words</th>\n      <th>Topic 1 weights</th>\n      <th>Topic 2 words</th>\n      <th>Topic 2 weights</th>\n      <th>Topic 3 words</th>\n      <th>Topic 3 weights</th>\n      <th>Topic 4 words</th>\n      <th>Topic 4 weights</th>\n    </tr>\n  </thead>\n  <tbody>\n    <tr>\n      <th>0</th>\n      <td>theory</td>\n      <td>4.2</td>\n      <td>research</td>\n      <td>5.2</td>\n      <td>computer</td>\n      <td>2.2</td>\n      <td>programming</td>\n      <td>9.9</td>\n      <td>topics</td>\n      <td>6.2</td>\n    </tr>\n    <tr>\n      <th>1</th>\n      <td>machine</td>\n      <td>4.0</td>\n      <td>students</td>\n      <td>5.2</td>\n      <td>programming</td>\n      <td>2.2</td>\n      <td>interactive</td>\n      <td>9.2</td>\n      <td>system</td>\n      <td>6.2</td>\n    </tr>\n    <tr>\n      <th>2</th>\n      <td>computer</td>\n      <td>3.0</td>\n      <td>fundamental</td>\n      <td>1.2</td>\n      <td>science</td>\n      <td>2.2</td>\n      <td>ai</td>\n      <td>7.2</td>\n      <td>programming</td>\n      <td>5.5</td>\n    </tr>\n    <tr>\n      <th>3</th>\n      <td>algorithms</td>\n      <td>2.7</td>\n      <td>developing</td>\n      <td>1.2</td>\n      <td>including</td>\n      <td>1.2</td>\n      <td>students</td>\n      <td>7.1</td>\n      <td>operating</td>\n      <td>4.2</td>\n    </tr>\n    <tr>\n      <th>4</th>\n      <td>learning</td>\n      <td>2.5</td>\n      <td>algorithms</td>\n      <td>1.2</td>\n      <td>data</td>\n      <td>1.2</td>\n      <td>computer</td>\n      <td>6.9</td>\n      <td>concepts</td>\n      <td>4.2</td>\n    </tr>\n  </tbody>\n</table>\n</div>"
     },
     "execution_count": 76,
     "metadata": {},
     "output_type": "execute_result"
    }
   ],
   "source": [
    "no_top_words = 5\n",
    "display_topics(model, tf_feature_names, no_top_words)"
   ],
   "metadata": {
    "collapsed": false,
    "ExecuteTime": {
     "start_time": "2023-04-23T10:54:32.312500Z",
     "end_time": "2023-04-23T10:54:32.323639Z"
    }
   }
  },
  {
   "cell_type": "code",
   "execution_count": 77,
   "outputs": [],
   "source": [
    "import gensim\n",
    "import gensim.corpora as corpora\n",
    "from gensim.corpora import Dictionary\n",
    "from gensim.models.coherencemodel import CoherenceModel\n",
    "from gensim.models.ldamodel import LdaModel\n",
    "from pprint import pprint\n",
    "import pyLDAvis\n",
    "import pyLDAvis.gensim\n",
    "import matplotlib.pyplot as plt"
   ],
   "metadata": {
    "collapsed": false,
    "ExecuteTime": {
     "start_time": "2023-04-23T11:02:54.216468Z",
     "end_time": "2023-04-23T11:02:54.788361Z"
    }
   }
  },
  {
   "cell_type": "code",
   "execution_count": 81,
   "outputs": [
    {
     "name": "stdout",
     "output_type": "stream",
     "text": [
      "0     general introduction computer science includin...\n",
      "1     introduction Computer Science students expecti...\n",
      "2     second Computer Science, focusing intermediate...\n",
      "3     Fundamentals, modern concepts, practices Artif...\n",
      "4     introductory theory Computer Science, focusing...\n",
      "5     third Computer Science, focusing advanced prog...\n",
      "6     Introductory systems Computer Science, focus h...\n",
      "7     Understanding ethical societal concerns introd...\n",
      "8     Foundations problems machine intelligence, app...\n",
      "9     explores formal underpinnings computational co...\n",
      "10    cover underpinnings, algorithms, practices ena...\n",
      "11    System programming topics illustrated POSIX AP...\n",
      "12    introduces basic concepts techniques software ...\n",
      "13    guides students developing ability conduct hig...\n",
      "14    Introduction storage hierarchies, database mod...\n",
      "15    course, students 1) become acquainted fundamen...\n",
      "16    goal introduce students ways thinking Artifici...\n",
      "17    graduate level introduction design analysis al...\n",
      "18    covers fundamental machine learning theory tec...\n",
      "19    Systems programming topics illustrated use Uni...\n",
      "20    covers core areas Artificial Intelligence incl...\n",
      "21    introduces fundamental concepts ideas natural ...\n",
      "22    goal introduce students ways thinking Artifici...\n",
      "23    focuses fundamentals information visualization...\n",
      "24    required students PhD program. comprises semin...\n",
      "25                                Dissertation Research\n",
      "Name: clean_description, dtype: object\n"
     ]
    }
   ],
   "source": [
    "print(new['clean_description'])"
   ],
   "metadata": {
    "collapsed": false,
    "ExecuteTime": {
     "start_time": "2023-04-23T11:08:22.468798Z",
     "end_time": "2023-04-23T11:08:22.475189Z"
    }
   }
  },
  {
   "cell_type": "code",
   "execution_count": 82,
   "outputs": [
    {
     "name": "stdout",
     "output_type": "stream",
     "text": [
      "[['general', 'introduction', 'computer', 'science', 'including', 'overview', 'hardware', 'systems,', 'programming', 'essentials,', 'algorithm', 'design,', 'data', 'handling,', 'networking.', 'intended', 'students', 'needing', 'programming', 'background', 'work', 'computer', 'science.'], ['introduction', 'Computer', 'Science', 'students', 'expecting', 'utilize', 'serious', 'computing', 'coursework,', 'research,', 'employment.', 'Emphasis', 'computing', 'concepts,', 'programming', 'principles,', 'algorithm', 'development', 'basic', 'data', 'structures,', 'using', 'Java', 'programming', 'language', 'Unix', 'operating', 'system.'], ['second', 'Computer', 'Science,', 'focusing', 'intermediate', 'programming.', 'Emphasis', 'proficiency', 'use', 'implementation', 'data', 'structures,', 'algorithms', 'classical', 'programming', 'paradigms,', 'object', 'oriented', 'design', 'programming', 'Java.'], ['Fundamentals,', 'modern', 'concepts,', 'practices', 'Artificial', 'Intelligence', 'including', 'computational', 'decision', 'making,', 'knowledge-based', 'agents,', 'propositional', 'logic,', 'search,', 'heuristics,', 'machine', 'learning.', 'Assessment', 'includes', 'exams', 'hands-on', 'projects', 'based', 'real-world', 'problems.'], ['introductory', 'theory', 'Computer', 'Science,', 'focusing', 'analysis', 'discrete', 'structures', 'applications.', 'Emphasis', 'developing', 'familiarity', 'notation,', 'computational', 'acuity', 'creative', 'problem', 'solving', 'skills.'], ['third', 'Computer', 'Science,', 'focusing', 'advanced', 'programming.', 'Emphasis', 'mastery', 'use', 'implementation', 'data', 'structures', 'algorithms', 'classical', 'programming', 'paradigms,', 'using', 'Java', 'programming', 'language', 'object', 'oriented', 'design.'], ['Introductory', 'systems', 'Computer', 'Science,', 'focus', 'high', 'level', 'computer', 'architecture', 'assembler', 'programming.', 'Emphasis', 'comprehension', 'von', 'Neumann', 'computer', 'architecture,', 'information', 'encoding', 'data', 'representation,', 'assembler', 'equivalents', 'high', 'level', 'programming', 'constructs.'], ['Understanding', 'ethical', 'societal', 'concerns', 'introduced', 'computing', 'AI', 'human', 'life,', 'including', 'privacy,', 'online', 'influence', 'disinformation,', 'information', 'ownership', 'responsibility,', 'fairness', 'bias', 'computer', 'AI', 'technologies', 'facial', 'recognition', 'robotic', 'systems.'], ['Foundations', 'problems', 'machine', 'intelligence,', 'application', 'areas,', 'representation', 'knowledge,', 'constraint', 'processing,', 'AI', 'programming', 'languages,', 'expert', 'systems,', 'design', 'intelligent', 'system.'], ['explores', 'formal', 'underpinnings', 'computational', 'complexity,', 'studies', 'mathematically', 'characterize', 'efficiency', 'running', 'times', 'different', 'computer', 'algorithms.'], ['cover', 'underpinnings,', 'algorithms,', 'practices', 'enable', 'computer', 'learn.', 'Emphasis', 'fundamental', 'theory', 'algorithms', 'statistical', 'machine', 'learning,', 'approaches', 'applying', 'machine', 'learning', 'variety', 'domains.'], ['System', 'programming', 'topics', 'illustrated', 'POSIX', 'API', 'Linux', 'operating', 'system.', 'Topics', 'include:', 'file', 'i/o,', 'TTY', 'driver,', 'window', 'systems,', 'processes,', 'shared', 'memory,', 'message', 'passing,', 'semaphores,', 'signals,', 'interrupt', 'handlers.'], ['introduces', 'basic', 'concepts', 'techniques', 'software', 'engineering,', 'applies', 'context', 'semester-long', 'group', 'programming', 'project.'], ['guides', 'students', 'developing', 'ability', 'conduct', 'high-quality', 'research', 'Artificial', 'Intelligence', '(AI).', 'Throughout', 'course,', 'students', 'work', 'team', 'projects,', 'write', 'research', 'papers', '(both', 'individually', 'groups),', 'peer-review', 'papers', 'others,', 'give', 'public', 'presentations.'], ['Introduction', 'storage', 'hierarchies,', 'database', 'models,', 'consistency,', 'reliability,', 'security', 'issues.', 'Query', 'languages', 'implementations,', 'efficiency', 'considerations,', 'compression', 'encoding', 'techniques.'], ['course,', 'students', '1)', 'become', 'acquainted', 'fundamental', 'theories', 'perceptual', 'psychology', 'drive', 'visualization', 'design,', '2)', 'introduced', 'basic', 'principles', 'HCI', 'inform', 'evaluation', 'interactive', 'visualizations,', '3)', 'use', 'D3', 'develop', 'interactive', 'visualizations.'], ['goal', 'introduce', 'students', 'ways', 'thinking', 'Artificial', 'Intelligence', 'impacted', 'humans,', 'design', 'interactive', 'intelligent', 'systems', 'usable', 'beneficial', 'humans,', 'respect', 'human', 'values.', 'students', 'course,', 'build', 'number', 'different', 'interactive', 'technologies', 'powered', 'AI.', 'Among', 'topics,', 'learn', 'Large-Language', 'Models', '(such', 'behind', 'ChatGPT),', 'generative', 'models', '(such', 'Stable', 'Diffusion,', 'creates', 'new', 'images', 'based', 'description),', 'serve', 'foundation', 'new', 'interactive', 'AI', 'applications.', 'building', 'applications,', 'gain', 'practical', 'experience', 'different', 'decisions', 'impact', 'usability', 'humans', 'understand', 'various', 'ways', 'human', 'involvement', 'critical', 'systems', 'driven', 'machine', 'learning.', 'all,', 'learn', 'think', 'optimistically', 'critically', 'AI', 'systems', 'integrated', 'society.'], ['graduate', 'level', 'introduction', 'design', 'analysis', 'algorithms.', 'Although', 'review', 'undergraduate', 'level', 'material,', 'instead', 'emphasize', 'reading', 'experimentation', 'level', 'appropriate', 'initiation', 'research.', 'theoretical', 'practical', 'content.', 'highlights,', 'students', 'expected', 'implement', 'analyze', 'performance', 'fundamental', 'data', 'structure,', 'starting', 'close', 'reading', 'original', 'research', 'paper.'], ['covers', 'fundamental', 'machine', 'learning', 'theory', 'techniques.', 'topics', 'include', 'basic', 'theory,', 'classification', 'methods,', 'model', 'generalization,', 'clustering,', 'dimension', 'reduction.', 'material', 'conveyed', 'series', 'lectures,', 'homeworks,', 'projects.'], ['Systems', 'programming', 'topics', 'illustrated', 'use', 'Unix', 'operating', 'system.', 'Topics', 'include:', 'file', 'i/o,', 'tty', 'driver,', 'window', 'systems,', 'processes,', 'shared', 'memory,', 'message', 'passing,', 'semaphores,', 'signals,', 'interrupt', 'handlers,', 'network', 'programming', 'remote', 'procedure', 'calls.', 'Programming', 'examples', 'assignments', 'illustrate', 'system', 'interface', 'actual', 'computer', 'hardware.', 'assignments', 'written', 'C.', 'department', 'computing', 'lab', 'used', 'allow', 'students', 'get', 'hands-on', 'experience', 'operating', 'system', 'hardware', 'topics', 'cannot', 'effectively', 'pursued', 'central', 'timesharing', 'computer.'], ['covers', 'core', 'areas', 'Artificial', 'Intelligence', 'including', 'perception,', 'optimization,', 'reasoning,', 'learning,', 'planning,', 'decision--making,', 'knowledge', 'representation,', 'vision', 'robotics.'], ['introduces', 'fundamental', 'concepts', 'ideas', 'natural', 'language', 'processing', '(NLP).', 'develops', 'understanding', 'algorithms', 'processing', 'linguistic', 'information', 'underlying', 'computational', 'properties', 'text.', 'focus', 'modern', 'quantitative', 'techniques', 'NLP.', 'Advanced', 'topics', 'include', 'introduction', 'information', 'retrieval,', 'text', 'mining', 'knowledge', 'discovery', 'text', 'data,', 'well', 'applications', 'NLP', 'bioinformatics', 'medical', 'informatics.'], ['goal', 'introduce', 'students', 'ways', 'thinking', 'Artificial', 'Intelligence', 'impacted', 'humans,', 'design', 'interactive', 'intelligent', 'systems', 'usable', 'beneficial', 'humans,', 'respect', 'human', 'values.', 'students', 'course,', 'build', 'number', 'different', 'interactive', 'technologies', 'powered', 'AI.', 'Among', 'topics,', 'learn', 'Large-Language', 'Models', '(such', 'behind', 'ChatGPT),', 'generative', 'models', '(such', 'Stable', 'Diffusion,', 'creates', 'new', 'images', 'based', 'description),', 'serve', 'foundation', 'new', 'interactive', 'AI', 'applications.'], ['focuses', 'fundamentals', 'information', 'visualization', 'visual', 'analytics.', 'goal', 'study', 'techniques', 'creating', 'effective', 'visual', 'representations', 'data', 'based', 'principles', 'psychology,', 'cognitive', 'science,', 'design.', 'addition', 'designing', 'developing', 'interactive', 'information', 'visualizations,', 'students', 'also', 'learn', 'state', 'art', 'information', 'visualization', 'research.'], ['required', 'students', 'PhD', 'program.', 'comprises', 'seminars', 'given', 'faculty,', 'invited', 'guests,', 'students.'], ['Dissertation', 'Research']]\n",
      "[[(0, 1), (1, 1), (2, 2), (3, 1), (4, 1), (5, 1), (6, 1), (7, 1), (8, 1), (9, 1), (10, 1), (11, 1), (12, 1), (13, 1), (14, 1), (15, 2), (16, 1), (17, 1), (18, 1), (19, 1), (20, 1)]]\n"
     ]
    }
   ],
   "source": [
    "new_description = []\n",
    "for i in range(len(new['clean_description'])):\n",
    "    new_description.append(new['clean_description'][i].split())\n",
    "\n",
    "print(new_description)\n",
    "id2word = Dictionary(new_description)\n",
    "# Term Document Frequency\n",
    "corpus = [id2word.doc2bow(text) for text in new_description]\n",
    "print(corpus[:1])"
   ],
   "metadata": {
    "collapsed": false,
    "ExecuteTime": {
     "start_time": "2023-04-23T11:09:59.623998Z",
     "end_time": "2023-04-23T11:09:59.627823Z"
    }
   }
  },
  {
   "cell_type": "code",
   "execution_count": 83,
   "outputs": [
    {
     "data": {
      "text/plain": "[[('algorithm', 1),\n  ('background', 1),\n  ('computer', 2),\n  ('data', 1),\n  ('design,', 1),\n  ('essentials,', 1),\n  ('general', 1),\n  ('handling,', 1),\n  ('hardware', 1),\n  ('including', 1),\n  ('intended', 1),\n  ('introduction', 1),\n  ('needing', 1),\n  ('networking.', 1),\n  ('overview', 1),\n  ('programming', 2),\n  ('science', 1),\n  ('science.', 1),\n  ('students', 1),\n  ('systems,', 1),\n  ('work', 1)]]"
     },
     "execution_count": 83,
     "metadata": {},
     "output_type": "execute_result"
    }
   ],
   "source": [
    "[[(id2word[i], freq) for i, freq in doc] for doc in corpus[:1]]"
   ],
   "metadata": {
    "collapsed": false,
    "ExecuteTime": {
     "start_time": "2023-04-23T11:10:21.665413Z",
     "end_time": "2023-04-23T11:10:21.669359Z"
    }
   }
  },
  {
   "cell_type": "code",
   "execution_count": 84,
   "outputs": [
    {
     "name": "stdout",
     "output_type": "stream",
     "text": [
      "[(0,\n",
      "  '0.021*\"computer\" + 0.016*\"computational\" + 0.016*\"efficiency\" + '\n",
      "  '0.016*\"including\" + 0.009*\"techniques.\" + 0.009*\"machine\" + '\n",
      "  '0.009*\"programming\" + 0.009*\"different\" + 0.009*\"Intelligence\" + '\n",
      "  '0.009*\"Artificial\"'),\n",
      " (1,\n",
      "  '0.029*\"research\" + 0.029*\"papers\" + 0.029*\"students\" + 0.015*\"Intelligence\" '\n",
      "  '+ 0.015*\"presentations.\" + 0.015*\"conduct\" + 0.015*\"give\" + 0.015*\"guides\" '\n",
      "  '+ 0.015*\"groups),\" + 0.015*\"(both\"'),\n",
      " (2,\n",
      "  '0.039*\"programming\" + 0.016*\"Emphasis\" + 0.016*\"data\" + 0.016*\"Computer\" + '\n",
      "  '0.016*\"students\" + 0.014*\"use\" + 0.012*\"interactive\" + 0.012*\"computing\" + '\n",
      "  '0.011*\"focusing\" + 0.011*\"classical\"'),\n",
      " (3,\n",
      "  '0.032*\"machine\" + 0.015*\"programming\" + 0.013*\"systems,\" + 0.013*\"system.\" '\n",
      "  '+ 0.013*\"computer\" + 0.012*\"fundamental\" + 0.011*\"practices\" + '\n",
      "  '0.011*\"languages,\" + 0.011*\"representation\" + 0.011*\"statistical\"'),\n",
      " (4,\n",
      "  '0.027*\"interactive\" + 0.016*\"basic\" + 0.014*\"programming\" + '\n",
      "  '0.014*\"students\" + 0.012*\"course,\" + 0.009*\"techniques\" + '\n",
      "  '0.009*\"introduces\" + 0.009*\"project.\" + 0.009*\"group\" + 0.009*\"context\"'),\n",
      " (5,\n",
      "  '0.029*\"level\" + 0.024*\"students\" + 0.019*\"reading\" + 0.015*\"introduction\" + '\n",
      "  '0.015*\"data\" + 0.013*\"analysis\" + 0.010*\"material,\" + 0.010*\"performance\" + '\n",
      "  '0.010*\"content.\" + 0.010*\"expected\"'),\n",
      " (6,\n",
      "  '0.030*\"information\" + 0.019*\"computer\" + 0.016*\"data\" + 0.015*\"level\" + '\n",
      "  '0.015*\"visual\" + 0.015*\"high\" + 0.015*\"visualization\" + 0.015*\"assembler\" + '\n",
      "  '0.015*\"programming\" + 0.012*\"students\"'),\n",
      " (7,\n",
      "  '0.018*\"knowledge\" + 0.017*\"text\" + 0.016*\"information\" + 0.016*\"processing\" '\n",
      "  '+ 0.015*\"computational\" + 0.010*\"including\" + 0.010*\"reasoning,\" + '\n",
      "  '0.010*\"decision--making,\" + 0.010*\"representation,\" + '\n",
      "  '0.010*\"optimization,\"'),\n",
      " (8,\n",
      "  '0.020*\"interactive\" + 0.017*\"systems\" + 0.016*\"(such\" + 0.015*\"different\" + '\n",
      "  '0.015*\"students\" + 0.014*\"humans,\" + 0.014*\"new\" + 0.014*\"ways\" + '\n",
      "  '0.013*\"learn\" + 0.013*\"AI\"'),\n",
      " (9,\n",
      "  '0.017*\"AI\" + 0.013*\"machine\" + 0.012*\"human\" + 0.011*\"generalization,\" + '\n",
      "  '0.011*\"theory,\" + 0.011*\"covers\" + 0.011*\"basic\" + 0.011*\"conveyed\" + '\n",
      "  '0.011*\"lectures,\" + 0.011*\"include\"')]\n"
     ]
    }
   ],
   "source": [
    "lda_model = LdaModel(corpus=corpus,\n",
    "                   id2word=id2word,\n",
    "                   num_topics=10,\n",
    "                   random_state=0,\n",
    "                   chunksize=100,\n",
    "                   alpha='auto',\n",
    "                   per_word_topics=True)\n",
    "\n",
    "pprint(lda_model.print_topics())\n",
    "doc_lda = lda_model[corpus]"
   ],
   "metadata": {
    "collapsed": false,
    "ExecuteTime": {
     "start_time": "2023-04-23T11:10:46.359677Z",
     "end_time": "2023-04-23T11:10:46.385710Z"
    }
   }
  },
  {
   "cell_type": "code",
   "execution_count": 86,
   "outputs": [
    {
     "name": "stderr",
     "output_type": "stream",
     "text": [
      "/Library/Frameworks/Python.framework/Versions/3.10/lib/python3.10/site-packages/pyLDAvis/_prepare.py:244: FutureWarning: In a future version of pandas all arguments of DataFrame.drop except for the argument 'labels' will be keyword-only.\n",
      "  by='saliency', ascending=False).head(R).drop('saliency', 1)\n"
     ]
    }
   ],
   "source": [
    "pyLDAvis.enable_notebook()\n",
    "p = pyLDAvis.gensim.prepare(lda_model, corpus, id2word)\n",
    "pyLDAvis.save_html(p, 'lda.html')"
   ],
   "metadata": {
    "collapsed": false,
    "ExecuteTime": {
     "start_time": "2023-04-23T12:01:32.145738Z",
     "end_time": "2023-04-23T12:01:33.316021Z"
    }
   }
  },
  {
   "cell_type": "code",
   "execution_count": null,
   "outputs": [],
   "source": [],
   "metadata": {
    "collapsed": false
   }
  }
 ],
 "metadata": {
  "kernelspec": {
   "display_name": "Python 3",
   "language": "python",
   "name": "python3"
  },
  "language_info": {
   "codemirror_mode": {
    "name": "ipython",
    "version": 3
   },
   "file_extension": ".py",
   "mimetype": "text/x-python",
   "name": "python",
   "nbconvert_exporter": "python",
   "pygments_lexer": "ipython3",
   "version": "3.8.2"
  }
 },
 "nbformat": 4,
 "nbformat_minor": 1
}
