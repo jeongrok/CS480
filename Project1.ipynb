{
 "cells": [
  {
   "cell_type": "code",
   "execution_count": null,
   "metadata": {
    "collapsed": true
   },
   "outputs": [],
   "source": [
    "print(\"Project 1\")"
   ]
  },
  {
   "cell_type": "code",
   "execution_count": null,
   "metadata": {},
   "outputs": [],
   "source": [
    "#Trading strategy with moving average \n",
    "#TODO: Changing strategy to trade every 5 years (on a Wednesday?); shorten training data\n",
    "#Total number of trades with current code: 26\n",
    "#PSR: 0.055 (can improve)\n",
    "\n",
    "class TradingStrategy(QCAlgorithm):\n",
    "    #Keep track of highest price for the stock \n",
    "    highestSPYPrice = 0\n",
    "    def Initialize(self):\n",
    "        self.SetCash(100000)  # Set Strategy Cash\n",
    "        self.averages = {}\n",
    "        self.spy = self.AddEquity(\"SPY\",Resolution.Daily)\n",
    "\n",
    "    def OnData(self, data):\n",
    "         if self.Securities[\"SPY\"].Close > self.highestSPYPrice:\n",
    "             self.highestSPYPrice = self.Securities[\"SPY\"].Close\n",
    "        #Check the moving average of the stock to decide if trading or holding \n",
    "         self.SelectionFunction(self.spy)\n",
    "            \n",
    "    def SelectionFunction(self, stock):\n",
    "        #Earliest data available for the 3 stocks \n",
    "        start_date = datetime(1998, 1, 1)\n",
    "        #Up to the start of 2022 (need to shorten)\n",
    "        end_date = datetime(2022, 1, 1)\n",
    "        symbol = stock.Symbol\n",
    "        #History for stock with daily resolution \n",
    "        history = self.History(symbol, start_date, end_date, Resolution.Daily)\n",
    "        #The tutorials did something with the code below but equity doesnt have AdjustedPrice\n",
    "        #self.averages[symbol].update(self.Time, stock.AdjustedPrice)\n",
    "        self.averages[symbol] = SelectionData(history) \n",
    "        self.Debug(str(history))\n",
    "        #Decide if trade or hold\n",
    "        if  self.averages[symbol].is_ready() and self.averages[symbol].fast > self.averages[symbol].slow:\n",
    "            #Set asset holdings to 100% of symbol\n",
    "            self.SetHoldings(symbol, 1)\n",
    "        else: \n",
    "            #Liquidate assets\n",
    "            self.Liquidate(symbol)\n",
    "#Moving average models\n",
    "class SelectionData():\n",
    "    def __init__(self, history):\n",
    "        #Not sure if it should be 100 or 200 (I had both numbers in my notes)\n",
    "        self.slow = ExponentialMovingAverage(200)\n",
    "        self.fast = ExponentialMovingAverage(50)\n",
    "        #4. Loop over the history data and update the indicators\n",
    "        for bar in history.itertuples():\n",
    "            self.fast.Update(bar.Index[1], bar.close)\n",
    "            self.slow.Update(bar.Index[1], bar.close)\n",
    "\n",
    "    def is_ready(self):\n",
    "        return self.slow.IsReady and self.fast.IsReady"
   ]
  }
 ],
 "metadata": {
  "kernelspec": {
   "display_name": "Python 3",
   "language": "python",
   "name": "python3"
  },
  "language_info": {
   "codemirror_mode": {
    "name": "ipython",
    "version": 2
   },
   "file_extension": ".py",
   "mimetype": "text/x-python",
   "name": "python",
   "nbconvert_exporter": "python",
   "pygments_lexer": "ipython2",
   "version": "2.7.6"
  }
 },
 "nbformat": 4,
 "nbformat_minor": 0
}
